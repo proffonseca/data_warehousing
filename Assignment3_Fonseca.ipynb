{
 "cells": [
  {
   "cell_type": "markdown",
   "id": "4cdc446b",
   "metadata": {},
   "source": [
    "# Assignment #3 - Data Gathering and Warehousing - DSSA-5102\n",
    "\n",
    "Instructor: Melissa Laurino</br>\n",
    "Spring 2024</br>\n",
    "\n",
    "Name: \n",
    "</br>\n",
    "Date:\n",
    "<br>\n",
    "<br>\n",
    "We introduced in Assignment #2 the imporatance of data cleaning and why accurrate data is needed when making informed decisions in our field. In our assignment, we were faced with making the decision whether or not to omit data we may not know too much about yet. \n",
    "<br>\n",
    "<b>Metadata</b> is data about the data. Metadata can be structural, administrative, statistical and much more.\n",
    "<br>\n",
    "When building your data warehouses it is important to have data cleaning protocols established for your organization BEFORE you start to clean the data.<br><br>\n",
    "Your task for Assignment #3 is to:<br>\n",
    "<b>--</b>Create a Github repository for this class. It can be public or private. If you choose to make it private, add the instructor as a collaborator. @MelissaLaurino<br>\n",
    "<b>--</b>Staying Connected -> Visit the Discussion Board and share your username with classmates if you are interested.<br>\n",
    "<b>--</b>Upload Assignment #1, #2, and your clean data (If you created a physical clean copy of it, otherwise the link is fine) to your new/established Github repository. For every repository you create, you'll automatically have the option to include a README.md (Meta data) file. <br>\n",
    "<b>--</b>Create a descriptive and very detailed README.md file for your dataset you have chosen to continue with. Insert a link to your Github README.md repository file in the comments section on Blackboard, or attach this assignment for submission.\n"
   ]
  },
  {
   "cell_type": "markdown",
   "id": "71044053",
   "metadata": {},
   "source": [
    "Include all of the following information on your README.md file for full credit. Be specific!:<br>\n",
    "More research may be needed on your dataset, besides general exploration, to answer the different types of metadata questions. If you are exploring your data at a greater depth to answer these questions, you can explore on this new document or continue working in Assignment #2.<br>\n",
    "(Refer to the Powerpoint notes on Blackboard for examples and guidance.)"
   ]
  },
  {
   "cell_type": "markdown",
   "id": "a3948dda",
   "metadata": {},
   "source": [
    "Where is the data from? ​Dr. Innocensia Owuor posted the .csv to Figshare. She obtained the data set from the Center for Systems Science and Engineering (CSSE) at Johns Hopkins University\n",
    "\n",
    "How was it collected?​The data is aggregated from a variety of sources, including WHO, US CDC, and WorldoMeters (full list is here:https://github.com/CSSEGISandData/COVID-19) \n",
    "\n",
    "How was it extracted?​I downloaded the data from Dr. Owuor's Figshare posting.\n",
    "\n",
    "What program was used to clean the data?​ R\n",
    "\n",
    "How was the data cleaned or transformed? Be specific.​ Data types were a mix of numbers and integers. I used sapply and lapply from the tidyverse library to first identify integers and then convert them to numbers. The \"month\" column was a factor, so I used as.Date from the lubridate library to convert that column to a date. In preparation for this data being used in a SQL database, I then used tolower to convert all column titles to lowercase. \n",
    "\n",
    "What are the units of the numeric data? The numeric data are counts of positive COVID tests.\n",
    "\n",
    "What were the formulas used in column creation?​ I did not create any new columns\n",
    "\n",
    "How is the data validated to ensure consistency?​ Much of the data had already been validated by Johns Hopkins and Dr. Owuor. The main issue with consistency was the data types, which were corrected in the steps listed above. To make sure the sapply and lapply worked as expected, I printed the data types and manually confirmed the change.\n",
    "\n",
    "What are the definitions for the column names? Include all columns in your dataset.​The column names are the names of individual countries.\n",
    "\n",
    "If there are set variable options in your dataset, what are thier definitions? ​There are no set variables.\n",
    "\n",
    "What are the regulations to using the data? The data is a part of the Creative Commons\n",
    "\n",
    "OWUOR, I. (2022). S1_COVID19 data. figshare."
   ]
  },
  {
   "cell_type": "markdown",
   "id": "4ca19ef3",
   "metadata": {},
   "source": [
    "<b>Link to Github account:<b><br>\n",
    "<b>Link to README.md for our class repository:<b><br>"
   ]
  },
  {
   "cell_type": "code",
   "execution_count": null,
   "id": "c9126cac",
   "metadata": {},
   "outputs": [],
   "source": []
  }
 ],
 "metadata": {
  "kernelspec": {
   "display_name": "R",
   "language": "R",
   "name": "ir"
  },
  "language_info": {
   "codemirror_mode": "r",
   "file_extension": ".r",
   "mimetype": "text/x-r-source",
   "name": "R",
   "pygments_lexer": "r",
   "version": "4.3.2"
  }
 },
 "nbformat": 4,
 "nbformat_minor": 5
}
