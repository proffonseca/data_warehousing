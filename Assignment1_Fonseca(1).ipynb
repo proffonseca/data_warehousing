{
 "cells": [
  {
   "cell_type": "markdown",
   "id": "c825ca7c",
   "metadata": {},
   "source": [
    "# Assignment #1 - Data Gathering and Warehousing - DSSA-5102"
   ]
  },
  {
   "cell_type": "markdown",
   "id": "3e792669",
   "metadata": {},
   "source": [
    "Instructor: Melissa Laurino<br>\n",
    "Spring 2024"
   ]
  },
  {
   "cell_type": "markdown",
   "id": "db9fe204",
   "metadata": {},
   "source": [
    "Name:Lauren M. Fonseca\n",
    "<br>\n",
    "Date: 24 January 2024"
   ]
  },
  {
   "cell_type": "markdown",
   "id": "292e9143",
   "metadata": {},
   "source": [
    "<b>Data. Is. Everywhere.</b> <br>\n",
    "Our first objective is to locate and explore <b>TWO</b> datasets about something you are passionate about, or related to a field you would like to work in. Our semester plan is <i>try</i> to work with the same dataset through out the semester. You can find and explore as many datasets as you wish, but Assignment #2 will focus on the one you like the best.\n",
    "There are many great websites that offer public datasets avaialable to download. Examples include but are not limited to:\n",
    "<br>\n",
    "https://data.gov/ - Data.gov has many government owened public datasets.<br>\n",
    "https://data.worldbank.org/ - World Bank Data has world economic, social, and environmental data.<br>\n",
    "https://datasetsearch.research.google.com/ - Google Dataset Search: Many of these available datasets link to published studies available on Google Scholar in many fields.<br>\n",
    "https://www.kaggle.com/datasets - Kaggle Datasets is a platform for sharing datasets. Anyone can upload to this website.<br>\n",
    "https://www.census.gov/ - U.S. Census Bureau: Data on people, places and econoy for the United States.\n",
    "https://github.com/ - GitHub hosts datasets and completed projects.<br>\n",
    "https://fred.stlouisfed.org/ - Federal Reserve Economic Data (FRED) - Financial and economic data.<br>\n",
    "https://data.cdc.gov/ - Explore the various data collected by the CDC.<br>\n",
    "https://www.ncei.noaa.gov/cdo-web/ - NOAA climate and ocean data. <br>\n",
    "<br>\n",
    "In addition to these resources, occasionally local organizations may be able to provide you with data, or maybe even your own company! Your data source can come from a personal connection, but please be mindful of any data agreements or approvals you may need. If you need approval to use data from your place of employment, please specify that with the instructor so we can ensure no violations to your data agreement will be made this semester."
   ]
  },
  {
   "cell_type": "markdown",
   "id": "6c5eadb4",
   "metadata": {},
   "source": [
    "# Dataset #1"
   ]
  },
  {
   "cell_type": "markdown",
   "id": "0bf03c2c",
   "metadata": {},
   "source": [
    "<b>Dataset name:</b><br>Covid19 data\n",
    "<b>Company/Government Organization:</b>INNOCENSIA OWUOR<br>\n",
    "Download link:https://figshare.com/articles/dataset/SI_COVID19_data/19729699"
   ]
  },
  {
   "cell_type": "markdown",
   "id": "55a352bf",
   "metadata": {},
   "source": [
    "Load any necessary libraries or packages:"
   ]
  },
  {
   "cell_type": "code",
   "execution_count": 13,
   "id": "f274f2ae",
   "metadata": {
    "scrolled": true
   },
   "outputs": [],
   "source": [
    "#My example libraries are below, but edit as needed to fit your dataset:\n",
    "library(tidyverse) #Reading data\n",
    "library(lubridate) #Reading and manipulating dates and times\n",
    "library(readr) #Reading the CSV data file\n",
    "library(ggplot2) #Graphing"
   ]
  },
  {
   "cell_type": "code",
   "execution_count": 23,
   "id": "0dbdaf97",
   "metadata": {},
   "outputs": [],
   "source": [
    "#Load libraries\n",
    "library(tidyverse) #reading data\n",
    "library(lubridate) #manipulating dates, may need, may not\n",
    "library(readr) #read in csv\n",
    "library(ggplot2) #graphing"
   ]
  },
  {
   "cell_type": "markdown",
   "id": "79c86913",
   "metadata": {},
   "source": [
    "Load your dataset into the notebook below:"
   ]
  },
  {
   "cell_type": "code",
   "execution_count": 9,
   "id": "8dbcdffd",
   "metadata": {},
   "outputs": [],
   "source": [
    "#Be sure to document each line of code like the above example.\n",
    "#Documenting each line of code is helpful when revisiting assignments later in the semester."
   ]
  },
  {
   "cell_type": "code",
   "execution_count": 1,
   "id": "2fc0d288",
   "metadata": {},
   "outputs": [],
   "source": [
    "#read in covid dataset\n",
    "covid <- read.csv(\"COVID.csv\") #read in csv file of covid data"
   ]
  },
  {
   "cell_type": "markdown",
   "id": "741d90c8",
   "metadata": {},
   "source": [
    "What are the unique columns or variables present in your dataset? How many rows are there?"
   ]
  },
  {
   "cell_type": "code",
   "execution_count": 24,
   "id": "1ed08a0e",
   "metadata": {},
   "outputs": [
    {
     "name": "stdout",
     "output_type": "stream",
     "text": [
      "'data.frame':\t445 obs. of  88 variables:\n",
      " $ month                           : Factor w/ 445 levels \"2020-02-11\",\"2020-02-12\",..: 1 2 3 4 5 6 7 8 9 10 ...\n",
      " $ Algeria                         : num  0 0 0 0 0 0 0 0 0 0 ...\n",
      " $ Argentina                       : num  0 0 0 0 0 0 0 0 0 0 ...\n",
      " $ Armenia                         : int  0 0 0 0 0 0 0 0 0 0 ...\n",
      " $ Australia                       : num  0 0 0 0 0 0 0 0 0 0 ...\n",
      " $ Austria                         : num  0 0 0 0 0 0 0 0 0 0 ...\n",
      " $ Bangladesh                      : num  0 0 0 0 0 0 0 0 0 0 ...\n",
      " $ Belarus                         : num  0 0 0 0 0 0 0 0 0 0 ...\n",
      " $ Belgium                         : num  0 0 0 0 0 0 0 0 0 0 ...\n",
      " $ Bolivia                         : num  0 0 0 0 0 0 0 0 0 0 ...\n",
      " $ Bosnia.and.Herzegovina          : num  0 0 0 0 0 0 0 0 0 0 ...\n",
      " $ Botswana                        : num  0 0 0 0 0 0 0 0 0 0 ...\n",
      " $ Brazil                          : num  0 0 0 0 0 0 0 0 0 0 ...\n",
      " $ Canada                          : num  0 0 0 0 0 0 1 0 0 0 ...\n",
      " $ Chile                           : num  0 0 0 0 0 0 0 0 0 0 ...\n",
      " $ China                           : num  2032 373 15136 6463 2055 ...\n",
      " $ Colombia                        : int  0 0 0 0 0 0 0 0 0 0 ...\n",
      " $ Democratic_Republic_of_the_Congo: num  0 0 0 0 0 0 0 0 0 0 ...\n",
      " $ Cyprus                          : num  0 0 0 0 0 0 0 0 0 0 ...\n",
      " $ Czech_Republic                  : num  0 0 0 0 0 0 0 0 0 0 ...\n",
      " $ Denmark                         : num  0 0 0 0 0 0 0 0 0 0 ...\n",
      " $ Dominican.Republic              : num  0 0 0 0 0 0 0 0 0 0 ...\n",
      " $ Ecuador                         : num  0 0 0 0 0 0 0 0 0 0 ...\n",
      " $ Egypt                           : int  0 0 0 1 0 0 0 0 0 0 ...\n",
      " $ El.Salvador                     : num  0 0 0 0 0 0 0 0 0 0 ...\n",
      " $ Finland                         : num  0 0 0 0 0 0 0 0 0 0 ...\n",
      " $ France                          : num  0 0 0 0 1 0 0 0 0 0 ...\n",
      " $ Germany                         : int  2 0 0 0 0 0 0 0 0 0 ...\n",
      " $ Ghana                           : num  0 0 0 0 0 0 0 0 0 0 ...\n",
      " $ Greece                          : num  0 0 0 0 0 0 0 0 0 0 ...\n",
      " $ Guatemala                       : num  0 0 0 0 0 0 0 0 0 0 ...\n",
      " $ Guinea                          : num  0 0 0 0 0 0 0 0 0 0 ...\n",
      " $ Haiti                           : num  0 0 0 0 0 0 0 0 0 0 ...\n",
      " $ Honduras                        : num  0 0 0 0 0 0 0 0 0 0 ...\n",
      " $ India                           : num  0 0 0 0 0 0 0 0 0 0 ...\n",
      " $ Indonesia                       : int  0 0 0 0 0 0 0 0 0 0 ...\n",
      " $ Iran                            : int  0 0 0 0 0 0 0 0 2 3 ...\n",
      " $ Iraq                            : num  0 0 0 0 0 0 0 0 0 0 ...\n",
      " $ Ireland                         : num  0 0 0 0 0 0 0 0 0 0 ...\n",
      " $ Israel                          : num  0 0 0 0 0 0 0 0 0 0 ...\n",
      " $ Italy                           : num  0 0 0 0 0 0 0 0 0 0 ...\n",
      " $ Jamaica                         : num  0 0 0 0 0 0 0 0 0 0 ...\n",
      " $ Japan                           : int  1 1 5 10 11 6 7 12 6 10 ...\n",
      " $ Jordan                          : num  0 0 0 0 0 0 0 0 0 0 ...\n",
      " $ Kenya                           : num  0 0 0 0 0 0 0 0 0 0 ...\n",
      " $ Korea..South                    : int  1 0 0 0 0 1 1 1 37 73 ...\n",
      " $ Kuwait                          : num  0 0 0 0 0 0 0 0 0 0 ...\n",
      " $ Lebanon                         : num  0 0 0 0 0 0 0 0 0 0 ...\n",
      " $ Malaysia                        : num  0 0 1 0 3 0 0 0 0 0 ...\n",
      " $ Maldives                        : num  0 0 0 0 0 0 0 0 0 0 ...\n",
      " $ Mexico                          : num  0 0 0 0 0 0 0 0 0 0 ...\n",
      " $ Morocco                         : int  0 0 0 0 0 0 0 0 0 0 ...\n",
      " $ Nepal                           : num  0 0 0 0 0 0 0 0 0 0 ...\n",
      " $ Netherlands                     : int  0 0 0 0 0 0 0 0 0 0 ...\n",
      " $ New.Zealand                     : num  0 0 0 0 0 0 0 0 0 0 ...\n",
      " $ Nigeria                         : num  0 0 0 0 0 0 0 0 0 0 ...\n",
      " $ Norway                          : num  0 0 0 0 0 0 0 0 0 0 ...\n",
      " $ Oman                            : num  0 0 0 0 0 0 0 0 0 0 ...\n",
      " $ Pakistan                        : num  0 0 0 0 0 0 0 0 0 0 ...\n",
      " $ Panama                          : num  0 0 0 0 0 0 0 0 0 0 ...\n",
      " $ Paraguay                        : num  0 0 0 0 0 0 0 0 0 0 ...\n",
      " $ Peru                            : num  0 0 0 0 0 0 0 0 0 0 ...\n",
      " $ Philippines                     : int  0 0 0 0 0 0 0 0 0 0 ...\n",
      " $ Poland                          : num  0 0 0 0 0 0 0 0 0 0 ...\n",
      " $ Portugal                        : num  0 0 0 0 0 0 0 0 0 0 ...\n",
      " $ Qatar                           : num  0 0 0 0 0 0 0 0 0 0 ...\n",
      " $ Russia                          : num  0 0 0 0 0 0 0 0 0 0 ...\n",
      " $ Rwanda                          : num  0 0 0 0 0 0 0 0 0 0 ...\n",
      " $ Saudi.Arabia                    : int  0 0 0 0 0 0 0 0 0 0 ...\n",
      " $ Senegal                         : int  0 0 0 0 0 0 0 0 0 0 ...\n",
      " $ Serbia                          : num  0 0 0 0 0 0 0 0 0 0 ...\n",
      " $ Singapore                       : num  2 3 8 9 5 3 2 4 3 2 ...\n",
      " $ South.Africa                    : num  0 0 0 0 0 0 0 0 0 0 ...\n",
      " $ Spain                           : num  0 0 0 0 0 0 0 0 0 0 ...\n",
      " $ Sri.Lanka                       : num  0 0 0 0 0 0 0 0 0 0 ...\n",
      " $ Thailand                        : num  1 0 0 0 1 1 1 0 0 0 ...\n",
      " $ Turkey                          : num  0 0 0 0 0 0 0 0 0 0 ...\n",
      " $ Uganda                          : num  0 0 0 0 0 0 0 0 0 0 ...\n",
      " $ United.Arab.Emirates            : num  0 0 0 0 0 1 0 0 0 0 ...\n",
      " $ United.Kingdom                  : num  1 1 1 1 0 0 1 1 1 2 ...\n",
      " $ Uruguay                         : int  0 0 0 0 0 0 0 0 0 0 ...\n",
      " $ United.States                   : num  1 0 1 0 0 0 0 0 0 0 ...\n",
      " $ Venezuela                       : num  0 0 0 0 0 0 0 0 0 0 ...\n",
      " $ Vietnam                         : num  1 1 1 0 0 0 0 0 0 0 ...\n",
      " $ Yemen                           : num  0 0 0 0 0 0 0 0 0 0 ...\n",
      " $ Zambia                          : num  0 0 0 0 0 0 0 0 0 0 ...\n",
      " $ Zimbabwe                        : num  0 0 0 0 0 0 0 0 0 0 ...\n",
      " $ Grand.Total                     : int  2042 418 15153 6527 2143 2183 2035 1882 500 560 ...\n"
     ]
    },
    {
     "data": {
      "text/html": [
       "<table>\n",
       "<thead><tr><th scope=col>month</th><th scope=col>Algeria</th><th scope=col>Argentina</th><th scope=col>Armenia</th><th scope=col>Australia</th><th scope=col>Austria</th><th scope=col>Bangladesh</th><th scope=col>Belarus</th><th scope=col>Belgium</th><th scope=col>Bolivia</th><th scope=col>...</th><th scope=col>United.Arab.Emirates</th><th scope=col>United.Kingdom</th><th scope=col>Uruguay</th><th scope=col>United.States</th><th scope=col>Venezuela</th><th scope=col>Vietnam</th><th scope=col>Yemen</th><th scope=col>Zambia</th><th scope=col>Zimbabwe</th><th scope=col>Grand.Total</th></tr></thead>\n",
       "<tbody>\n",
       "\t<tr><td>2020-02-11</td><td>0         </td><td>0         </td><td>0         </td><td>0         </td><td>0         </td><td>0         </td><td>0         </td><td>0         </td><td>0         </td><td>...       </td><td>0         </td><td>1         </td><td>0         </td><td>1         </td><td>0         </td><td>1         </td><td>0         </td><td>0         </td><td>0         </td><td> 2042     </td></tr>\n",
       "\t<tr><td>2020-02-12</td><td>0         </td><td>0         </td><td>0         </td><td>0         </td><td>0         </td><td>0         </td><td>0         </td><td>0         </td><td>0         </td><td>...       </td><td>0         </td><td>1         </td><td>0         </td><td>0         </td><td>0         </td><td>1         </td><td>0         </td><td>0         </td><td>0         </td><td>  418     </td></tr>\n",
       "\t<tr><td>2020-02-13</td><td>0         </td><td>0         </td><td>0         </td><td>0         </td><td>0         </td><td>0         </td><td>0         </td><td>0         </td><td>0         </td><td>...       </td><td>0         </td><td>1         </td><td>0         </td><td>1         </td><td>0         </td><td>1         </td><td>0         </td><td>0         </td><td>0         </td><td>15153     </td></tr>\n",
       "\t<tr><td>2020-02-14</td><td>0         </td><td>0         </td><td>0         </td><td>0         </td><td>0         </td><td>0         </td><td>0         </td><td>0         </td><td>0         </td><td>...       </td><td>0         </td><td>1         </td><td>0         </td><td>0         </td><td>0         </td><td>0         </td><td>0         </td><td>0         </td><td>0         </td><td> 6527     </td></tr>\n",
       "\t<tr><td>2020-02-15</td><td>0         </td><td>0         </td><td>0         </td><td>0         </td><td>0         </td><td>0         </td><td>0         </td><td>0         </td><td>0         </td><td>...       </td><td>0         </td><td>0         </td><td>0         </td><td>0         </td><td>0         </td><td>0         </td><td>0         </td><td>0         </td><td>0         </td><td> 2143     </td></tr>\n",
       "\t<tr><td>2020-02-16</td><td>0         </td><td>0         </td><td>0         </td><td>0         </td><td>0         </td><td>0         </td><td>0         </td><td>0         </td><td>0         </td><td>...       </td><td>1         </td><td>0         </td><td>0         </td><td>0         </td><td>0         </td><td>0         </td><td>0         </td><td>0         </td><td>0         </td><td> 2183     </td></tr>\n",
       "</tbody>\n",
       "</table>\n"
      ],
      "text/latex": [
       "\\begin{tabular}{r|llllllllllllllllllllllllllllllllllllllllllllllllllllllllllllllllllllllllllllllllllllllll}\n",
       " month & Algeria & Argentina & Armenia & Australia & Austria & Bangladesh & Belarus & Belgium & Bolivia & ... & United.Arab.Emirates & United.Kingdom & Uruguay & United.States & Venezuela & Vietnam & Yemen & Zambia & Zimbabwe & Grand.Total\\\\\n",
       "\\hline\n",
       "\t 2020-02-11 & 0          & 0          & 0          & 0          & 0          & 0          & 0          & 0          & 0          & ...        & 0          & 1          & 0          & 1          & 0          & 1          & 0          & 0          & 0          &  2042     \\\\\n",
       "\t 2020-02-12 & 0          & 0          & 0          & 0          & 0          & 0          & 0          & 0          & 0          & ...        & 0          & 1          & 0          & 0          & 0          & 1          & 0          & 0          & 0          &   418     \\\\\n",
       "\t 2020-02-13 & 0          & 0          & 0          & 0          & 0          & 0          & 0          & 0          & 0          & ...        & 0          & 1          & 0          & 1          & 0          & 1          & 0          & 0          & 0          & 15153     \\\\\n",
       "\t 2020-02-14 & 0          & 0          & 0          & 0          & 0          & 0          & 0          & 0          & 0          & ...        & 0          & 1          & 0          & 0          & 0          & 0          & 0          & 0          & 0          &  6527     \\\\\n",
       "\t 2020-02-15 & 0          & 0          & 0          & 0          & 0          & 0          & 0          & 0          & 0          & ...        & 0          & 0          & 0          & 0          & 0          & 0          & 0          & 0          & 0          &  2143     \\\\\n",
       "\t 2020-02-16 & 0          & 0          & 0          & 0          & 0          & 0          & 0          & 0          & 0          & ...        & 1          & 0          & 0          & 0          & 0          & 0          & 0          & 0          & 0          &  2183     \\\\\n",
       "\\end{tabular}\n"
      ],
      "text/markdown": [
       "\n",
       "| month | Algeria | Argentina | Armenia | Australia | Austria | Bangladesh | Belarus | Belgium | Bolivia | ... | United.Arab.Emirates | United.Kingdom | Uruguay | United.States | Venezuela | Vietnam | Yemen | Zambia | Zimbabwe | Grand.Total |\n",
       "|---|---|---|---|---|---|---|---|---|---|---|---|---|---|---|---|---|---|---|---|---|\n",
       "| 2020-02-11 | 0          | 0          | 0          | 0          | 0          | 0          | 0          | 0          | 0          | ...        | 0          | 1          | 0          | 1          | 0          | 1          | 0          | 0          | 0          |  2042      |\n",
       "| 2020-02-12 | 0          | 0          | 0          | 0          | 0          | 0          | 0          | 0          | 0          | ...        | 0          | 1          | 0          | 0          | 0          | 1          | 0          | 0          | 0          |   418      |\n",
       "| 2020-02-13 | 0          | 0          | 0          | 0          | 0          | 0          | 0          | 0          | 0          | ...        | 0          | 1          | 0          | 1          | 0          | 1          | 0          | 0          | 0          | 15153      |\n",
       "| 2020-02-14 | 0          | 0          | 0          | 0          | 0          | 0          | 0          | 0          | 0          | ...        | 0          | 1          | 0          | 0          | 0          | 0          | 0          | 0          | 0          |  6527      |\n",
       "| 2020-02-15 | 0          | 0          | 0          | 0          | 0          | 0          | 0          | 0          | 0          | ...        | 0          | 0          | 0          | 0          | 0          | 0          | 0          | 0          | 0          |  2143      |\n",
       "| 2020-02-16 | 0          | 0          | 0          | 0          | 0          | 0          | 0          | 0          | 0          | ...        | 1          | 0          | 0          | 0          | 0          | 0          | 0          | 0          | 0          |  2183      |\n",
       "\n"
      ],
      "text/plain": [
       "  month      Algeria Argentina Armenia Australia Austria Bangladesh Belarus\n",
       "1 2020-02-11 0       0         0       0         0       0          0      \n",
       "2 2020-02-12 0       0         0       0         0       0          0      \n",
       "3 2020-02-13 0       0         0       0         0       0          0      \n",
       "4 2020-02-14 0       0         0       0         0       0          0      \n",
       "5 2020-02-15 0       0         0       0         0       0          0      \n",
       "6 2020-02-16 0       0         0       0         0       0          0      \n",
       "  Belgium Bolivia ... United.Arab.Emirates United.Kingdom Uruguay United.States\n",
       "1 0       0       ... 0                    1              0       1            \n",
       "2 0       0       ... 0                    1              0       0            \n",
       "3 0       0       ... 0                    1              0       1            \n",
       "4 0       0       ... 0                    1              0       0            \n",
       "5 0       0       ... 0                    0              0       0            \n",
       "6 0       0       ... 1                    0              0       0            \n",
       "  Venezuela Vietnam Yemen Zambia Zimbabwe Grand.Total\n",
       "1 0         1       0     0      0         2042      \n",
       "2 0         1       0     0      0          418      \n",
       "3 0         1       0     0      0        15153      \n",
       "4 0         0       0     0      0         6527      \n",
       "5 0         0       0     0      0         2143      \n",
       "6 0         0       0     0      0         2183      "
      ]
     },
     "metadata": {},
     "output_type": "display_data"
    }
   ],
   "source": [
    "#get structure of data\n",
    "str(covid)\n",
    "head(covid)"
   ]
  },
  {
   "cell_type": "code",
   "execution_count": null,
   "id": "65652edf",
   "metadata": {},
   "outputs": [],
   "source": [
    "There are 88 variables (columns) with 445 observations (rows)."
   ]
  },
  {
   "cell_type": "markdown",
   "id": "b913643b",
   "metadata": {},
   "source": [
    "Create one graph to quickly visualize your data. <br>\n",
    "It's okay if it is not visualy appealing or contains outliers, because we have not cleaned our data yet! Did you get any errors? If so, what were they? Would the errors have been avoided if you had cleaned the data first?<br>\n",
    "Data cleaning and transforming is very important when storing your data in a warehouse...ready for Assignment #2?"
   ]
  },
  {
   "cell_type": "code",
   "execution_count": 27,
   "id": "f201bbb4",
   "metadata": {},
   "outputs": [
    {
     "data": {
      "image/png": "[encoded data removed]",
      "text/plain": [
       "plot without title"
      ]
     },
     "metadata": {},
     "output_type": "display_data"
    },
    {
     "data": {
      "image/png": "[encoded data removed]",
      "text/plain": [
       "plot without title"
      ]
     },
     "metadata": {},
     "output_type": "display_data"
    }
   ],
   "source": [
    "#graphing dataset\n",
    "covid %>%\n",
    "ggplot(aes(x = month, y = China)) +\n",
    "geom_point(alpha=0.5) \n",
    "\n",
    "covid %>%\n",
    "ggplot(aes(x = month, y = United.States)) +\n",
    "geom_point(alpha=0.5) "
   ]
  },
  {
   "cell_type": "code",
   "execution_count": null,
   "id": "851b69fb",
   "metadata": {},
   "outputs": [],
   "source": [
    "Since the data frame is set up with the country name as a column header, graphing all of the varianles in one graph isn't possible. Once the data is transformed, I imagine using an animated bubble chart to demonstrate how COVID case numbers changed over time for each country."
   ]
  },
  {
   "cell_type": "markdown",
   "id": "d58383c5",
   "metadata": {},
   "source": [
    "# Dataset #2"
   ]
  },
  {
   "cell_type": "markdown",
   "id": "66a091c2",
   "metadata": {},
   "source": [
    "<b>Dataset name:</b>MS @ Work<br>\n",
    "<b>Company/Government Organization:</b> van der Hiele, et al.<br>\n",
    "Download link: https://sage.figshare.com/collections/Work_difficulties_in_people_with_multiple_sclerosis_The_role_of_anxiety_depression_and_coping/6181735/1"
   ]
  },
  {
   "cell_type": "markdown",
   "id": "14708b28",
   "metadata": {},
   "source": [
    "Load any necessary libraries or packages:"
   ]
  },
  {
   "cell_type": "code",
   "execution_count": 13,
   "id": "cbdacc6b",
   "metadata": {
    "scrolled": true
   },
   "outputs": [],
   "source": [
    "#load libraries\n",
    "library(tidyverse) #explopring data\n",
    "library(readxl) #reading in an excel file\n",
    "library(ggplot2) #graphing"
   ]
  },
  {
   "cell_type": "code",
   "execution_count": null,
   "id": "a86779f8",
   "metadata": {},
   "outputs": [],
   "source": []
  },
  {
   "cell_type": "markdown",
   "id": "f6ad53f3",
   "metadata": {},
   "source": [
    "Load your dataset into the notebook below:"
   ]
  },
  {
   "cell_type": "code",
   "execution_count": 16,
   "id": "0ccebf74",
   "metadata": {},
   "outputs": [],
   "source": [
    "ms_work <- read_excel (\"S1_Data.xlsx\")"
   ]
  },
  {
   "cell_type": "code",
   "execution_count": null,
   "id": "ceb94a92",
   "metadata": {},
   "outputs": [],
   "source": []
  },
  {
   "cell_type": "markdown",
   "id": "bd503196",
   "metadata": {},
   "source": [
    "What are the unique columns or variables present in your dataset? How many rows are there?"
   ]
  },
  {
   "cell_type": "code",
   "execution_count": 28,
   "id": "f3b0fd38",
   "metadata": {
    "scrolled": true
   },
   "outputs": [
    {
     "name": "stdout",
     "output_type": "stream",
     "text": [
      "Classes 'tbl_df', 'tbl' and 'data.frame':\t55 obs. of  31 variables:\n",
      " $ patnr                       : num  24 34 38 73 104 106 110 117 118 119 ...\n",
      " $ age                         : num  55 57 45 52 60 48 61 49 61 52 ...\n",
      " $ age_at_diagnosis            : num  37 47 42 43 47 40 40 35 50 28 ...\n",
      " $ years_since_diagnosis       : num  18 10 4 10 13 9 22 15 11 25 ...\n",
      " $ paid_employment             : chr  \"no paid employment\" \"no paid employment\" \"paid employment\" \"paid employment\" ...\n",
      " $ blue_white_collar           : chr  \"not applicable/missing\" \"not applicable/missing\" \"white collar\" \"white collar\" ...\n",
      " $ full_part_time              : chr  NA NA \"full-time 35 or more hours per week\" \"less than 12 hours per week\" ...\n",
      " $ education_verhage           : num  6 6 4 5 6 4 6 5 6 6 ...\n",
      " $ working_hours               : chr  \"0\" \"0\" \"40\" \"8\" ...\n",
      " $ unpaid_work                 : chr  \"unpaid work\" \"unpaid work\" \"no unpaid work\" \"no unpaid work\" ...\n",
      " $ EDSS                        : num  3 4 2.5 5.5 4.5 4 4 3 4.5 4 ...\n",
      " $ subjective_org_plan_problems: chr  \"no\" \"yes\" \"no\" \"yes\" ...\n",
      " $ subjective_org_plan_severity: chr  \"not apllicable\" \"moderate\" \"not apllicable\" \"severe\" ...\n",
      " $ BADS_DEX_cognition          : num  0 13 2 7 11 10 12 9 6 13 ...\n",
      " $ NART_IQ                     : num  104 109 105 105 109 85 107 111 102 101 ...\n",
      " $ TMT_A_time                  : num  49 66 49 47 39 50 32 38 28 32 ...\n",
      " $ TMT_B_time                  : num  73 84 75 64 136 104 71 98 56 153 ...\n",
      " $ Stroop_1_time               : num  48 63 45 47 63 80 39 56 58 63 ...\n",
      " $ Stroop_2_time               : num  54 79 49 61 74 84 54 71 69 80 ...\n",
      " $ Stroop_3_time               : num  79 107 72 90 104 143 72 120 113 128 ...\n",
      " $ Stroop_interference_tscore  : num  59 57 62 57 57 47 68 47 50 48 ...\n",
      " $ RCFT_copy_percentile        : chr  \"percentile 2-5\" \"percentile 6-10\" \"percentile <=1\" \"percentile 2-5\" ...\n",
      " $ PASAT_3sec_correct          : chr  \"50\" \"33\" \"57\" \"54\" ...\n",
      " $ WCST_categorie              : chr  \"6\" \"2\" \"6\" \"6\" ...\n",
      " $ WSCT_pers_error             : chr  \"15\" \"22\" \"10\" \"20\" ...\n",
      " $ BADS_profilescore           : chr  \"14\" \"19\" \"21\" \"20\" ...\n",
      " $ HADS_depression             : num  2 5 1 1 9 8 8 9 2 11 ...\n",
      " $ HADS_anxiety                : num  3 11 8 6 9 13 10 4 5 13 ...\n",
      " $ FIS_physical                : chr  \"15\" \"26\" \"11\" \"28\" ...\n",
      " $ FIS_cognitive               : chr  \"1\" \"30\" \"3\" \"17\" ...\n",
      " $ FIS_social                  : chr  \"7\" \"43\" \"10\" \"37\" ...\n"
     ]
    },
    {
     "data": {
      "text/html": [
       "<table>\n",
       "<thead><tr><th scope=col>patnr</th><th scope=col>age</th><th scope=col>age_at_diagnosis</th><th scope=col>years_since_diagnosis</th><th scope=col>paid_employment</th><th scope=col>blue_white_collar</th><th scope=col>full_part_time</th><th scope=col>education_verhage</th><th scope=col>working_hours</th><th scope=col>unpaid_work</th><th scope=col>...</th><th scope=col>RCFT_copy_percentile</th><th scope=col>PASAT_3sec_correct</th><th scope=col>WCST_categorie</th><th scope=col>WSCT_pers_error</th><th scope=col>BADS_profilescore</th><th scope=col>HADS_depression</th><th scope=col>HADS_anxiety</th><th scope=col>FIS_physical</th><th scope=col>FIS_cognitive</th><th scope=col>FIS_social</th></tr></thead>\n",
       "<tbody>\n",
       "\t<tr><td> 24                                </td><td>55                                 </td><td>37                                 </td><td>18                                 </td><td>no paid employment                 </td><td>not applicable/missing             </td><td>NA                                 </td><td>6                                  </td><td>0                                  </td><td>unpaid work                        </td><td>...                                </td><td>percentile 2-5                     </td><td>50                                 </td><td>6                                  </td><td>15                                 </td><td>14                                 </td><td>2                                  </td><td> 3                                 </td><td>15                                 </td><td>1                                  </td><td>7                                  </td></tr>\n",
       "\t<tr><td> 34                                </td><td>57                                 </td><td>47                                 </td><td>10                                 </td><td>no paid employment                 </td><td>not applicable/missing             </td><td>NA                                 </td><td>6                                  </td><td>0                                  </td><td>unpaid work                        </td><td>...                                </td><td>percentile 6-10                    </td><td>33                                 </td><td>2                                  </td><td>22                                 </td><td>19                                 </td><td>5                                  </td><td>11                                 </td><td>26                                 </td><td>30                                 </td><td>43                                 </td></tr>\n",
       "\t<tr><td> 38                                                           </td><td>45                                                            </td><td>42                                                            </td><td> 4                                                            </td><td><span style=white-space:pre-wrap>paid employment   </span>    </td><td><span style=white-space:pre-wrap>white collar          </span></td><td>full-time 35 or more hours per week                           </td><td>4                                                             </td><td>40                                                            </td><td>no unpaid work                                                </td><td>...                                                           </td><td>percentile &lt;=1                                             </td><td><span style=white-space:pre-wrap>57     </span>               </td><td>6                                                             </td><td>10                                                            </td><td>21                                                            </td><td>1                                                             </td><td> 8                                                            </td><td><span style=white-space:pre-wrap>11     </span>               </td><td><span style=white-space:pre-wrap>3      </span>               </td><td><span style=white-space:pre-wrap>10     </span>               </td></tr>\n",
       "\t<tr><td> 73                                </td><td>52                                 </td><td>43                                 </td><td>10                                 </td><td>paid employment                    </td><td>white collar                       </td><td>less than 12 hours per week        </td><td>5                                  </td><td>8                                  </td><td>no unpaid work                     </td><td>...                                </td><td>percentile 2-5                     </td><td>54                                 </td><td>6                                  </td><td>20                                 </td><td>20                                 </td><td>1                                  </td><td> 6                                 </td><td>28                                 </td><td>17                                 </td><td>37                                 </td></tr>\n",
       "\t<tr><td>104                                                                        </td><td>60                                                                         </td><td>47                                                                         </td><td>13                                                                         </td><td>no paid employment                                                         </td><td>not applicable/missing                                                     </td><td><span style=white-space:pre-wrap>NA                                 </span></td><td>6                                                                          </td><td>0                                                                          </td><td><span style=white-space:pre-wrap>unpaid work   </span>                     </td><td>...                                                                        </td><td>percentile &lt;=1                                                          </td><td>missing                                                                    </td><td>6                                                                          </td><td>13                                                                         </td><td>16                                                                         </td><td>9                                                                          </td><td> 9                                                                         </td><td>missing                                                                    </td><td>missing                                                                    </td><td>missing                                                                    </td></tr>\n",
       "\t<tr><td>106                                                                        </td><td>48                                                                         </td><td>40                                                                         </td><td> 9                                                                         </td><td>no paid employment                                                         </td><td>not applicable/missing                                                     </td><td><span style=white-space:pre-wrap>NA                                 </span></td><td>4                                                                          </td><td>0                                                                          </td><td><span style=white-space:pre-wrap>unpaid work   </span>                     </td><td>...                                                                        </td><td>percentile &lt;=1                                                          </td><td><span style=white-space:pre-wrap>37     </span>                            </td><td>4                                                                          </td><td>17                                                                         </td><td>19                                                                         </td><td>8                                                                          </td><td>13                                                                         </td><td><span style=white-space:pre-wrap>30     </span>                            </td><td><span style=white-space:pre-wrap>30     </span>                            </td><td><span style=white-space:pre-wrap>50     </span>                            </td></tr>\n",
       "</tbody>\n",
       "</table>\n"
      ],
      "text/latex": [
       "\\begin{tabular}{r|lllllllllllllllllllllllllllllll}\n",
       " patnr & age & age\\_at\\_diagnosis & years\\_since\\_diagnosis & paid\\_employment & blue\\_white\\_collar & full\\_part\\_time & education\\_verhage & working\\_hours & unpaid\\_work & ... & RCFT\\_copy\\_percentile & PASAT\\_3sec\\_correct & WCST\\_categorie & WSCT\\_pers\\_error & BADS\\_profilescore & HADS\\_depression & HADS\\_anxiety & FIS\\_physical & FIS\\_cognitive & FIS\\_social\\\\\n",
       "\\hline\n",
       "\t  24                                 & 55                                  & 37                                  & 18                                  & no paid employment                  & not applicable/missing              & NA                                  & 6                                   & 0                                   & unpaid work                         & ...                                 & percentile 2-5                      & 50                                  & 6                                   & 15                                  & 14                                  & 2                                   &  3                                  & 15                                  & 1                                   & 7                                  \\\\\n",
       "\t  34                                 & 57                                  & 47                                  & 10                                  & no paid employment                  & not applicable/missing              & NA                                  & 6                                   & 0                                   & unpaid work                         & ...                                 & percentile 6-10                     & 33                                  & 2                                   & 22                                  & 19                                  & 5                                   & 11                                  & 26                                  & 30                                  & 43                                 \\\\\n",
       "\t  38                                 & 45                                  & 42                                  &  4                                  & paid employment                     & white collar                        & full-time 35 or more hours per week & 4                                   & 40                                  & no unpaid work                      & ...                                 & percentile <=1                      & 57                                  & 6                                   & 10                                  & 21                                  & 1                                   &  8                                  & 11                                  & 3                                   & 10                                 \\\\\n",
       "\t  73                                 & 52                                  & 43                                  & 10                                  & paid employment                     & white collar                        & less than 12 hours per week         & 5                                   & 8                                   & no unpaid work                      & ...                                 & percentile 2-5                      & 54                                  & 6                                   & 20                                  & 20                                  & 1                                   &  6                                  & 28                                  & 17                                  & 37                                 \\\\\n",
       "\t 104                                 & 60                                  & 47                                  & 13                                  & no paid employment                  & not applicable/missing              & NA                                  & 6                                   & 0                                   & unpaid work                         & ...                                 & percentile <=1                      & missing                             & 6                                   & 13                                  & 16                                  & 9                                   &  9                                  & missing                             & missing                             & missing                            \\\\\n",
       "\t 106                                 & 48                                  & 40                                  &  9                                  & no paid employment                  & not applicable/missing              & NA                                  & 4                                   & 0                                   & unpaid work                         & ...                                 & percentile <=1                      & 37                                  & 4                                   & 17                                  & 19                                  & 8                                   & 13                                  & 30                                  & 30                                  & 50                                 \\\\\n",
       "\\end{tabular}\n"
      ],
      "text/markdown": [
       "\n",
       "| patnr | age | age_at_diagnosis | years_since_diagnosis | paid_employment | blue_white_collar | full_part_time | education_verhage | working_hours | unpaid_work | ... | RCFT_copy_percentile | PASAT_3sec_correct | WCST_categorie | WSCT_pers_error | BADS_profilescore | HADS_depression | HADS_anxiety | FIS_physical | FIS_cognitive | FIS_social |\n",
       "|---|---|---|---|---|---|---|---|---|---|---|---|---|---|---|---|---|---|---|---|---|\n",
       "|  24                                 | 55                                  | 37                                  | 18                                  | no paid employment                  | not applicable/missing              | NA                                  | 6                                   | 0                                   | unpaid work                         | ...                                 | percentile 2-5                      | 50                                  | 6                                   | 15                                  | 14                                  | 2                                   |  3                                  | 15                                  | 1                                   | 7                                   |\n",
       "|  34                                 | 57                                  | 47                                  | 10                                  | no paid employment                  | not applicable/missing              | NA                                  | 6                                   | 0                                   | unpaid work                         | ...                                 | percentile 6-10                     | 33                                  | 2                                   | 22                                  | 19                                  | 5                                   | 11                                  | 26                                  | 30                                  | 43                                  |\n",
       "|  38                                 | 45                                  | 42                                  |  4                                  | paid employment                     | white collar                        | full-time 35 or more hours per week | 4                                   | 40                                  | no unpaid work                      | ...                                 | percentile <=1                      | 57                                  | 6                                   | 10                                  | 21                                  | 1                                   |  8                                  | 11                                  | 3                                   | 10                                  |\n",
       "|  73                                 | 52                                  | 43                                  | 10                                  | paid employment                     | white collar                        | less than 12 hours per week         | 5                                   | 8                                   | no unpaid work                      | ...                                 | percentile 2-5                      | 54                                  | 6                                   | 20                                  | 20                                  | 1                                   |  6                                  | 28                                  | 17                                  | 37                                  |\n",
       "| 104                                 | 60                                  | 47                                  | 13                                  | no paid employment                  | not applicable/missing              | NA                                  | 6                                   | 0                                   | unpaid work                         | ...                                 | percentile <=1                      | missing                             | 6                                   | 13                                  | 16                                  | 9                                   |  9                                  | missing                             | missing                             | missing                             |\n",
       "| 106                                 | 48                                  | 40                                  |  9                                  | no paid employment                  | not applicable/missing              | NA                                  | 4                                   | 0                                   | unpaid work                         | ...                                 | percentile <=1                      | 37                                  | 4                                   | 17                                  | 19                                  | 8                                   | 13                                  | 30                                  | 30                                  | 50                                  |\n",
       "\n"
      ],
      "text/plain": [
       "  patnr age age_at_diagnosis years_since_diagnosis paid_employment   \n",
       "1  24   55  37               18                    no paid employment\n",
       "2  34   57  47               10                    no paid employment\n",
       "3  38   45  42                4                    paid employment   \n",
       "4  73   52  43               10                    paid employment   \n",
       "5 104   60  47               13                    no paid employment\n",
       "6 106   48  40                9                    no paid employment\n",
       "  blue_white_collar      full_part_time                      education_verhage\n",
       "1 not applicable/missing NA                                  6                \n",
       "2 not applicable/missing NA                                  6                \n",
       "3 white collar           full-time 35 or more hours per week 4                \n",
       "4 white collar           less than 12 hours per week         5                \n",
       "5 not applicable/missing NA                                  6                \n",
       "6 not applicable/missing NA                                  4                \n",
       "  working_hours unpaid_work    ... RCFT_copy_percentile PASAT_3sec_correct\n",
       "1 0             unpaid work    ... percentile 2-5       50                \n",
       "2 0             unpaid work    ... percentile 6-10      33                \n",
       "3 40            no unpaid work ... percentile <=1       57                \n",
       "4 8             no unpaid work ... percentile 2-5       54                \n",
       "5 0             unpaid work    ... percentile <=1       missing           \n",
       "6 0             unpaid work    ... percentile <=1       37                \n",
       "  WCST_categorie WSCT_pers_error BADS_profilescore HADS_depression HADS_anxiety\n",
       "1 6              15              14                2                3          \n",
       "2 2              22              19                5               11          \n",
       "3 6              10              21                1                8          \n",
       "4 6              20              20                1                6          \n",
       "5 6              13              16                9                9          \n",
       "6 4              17              19                8               13          \n",
       "  FIS_physical FIS_cognitive FIS_social\n",
       "1 15           1             7         \n",
       "2 26           30            43        \n",
       "3 11           3             10        \n",
       "4 28           17            37        \n",
       "5 missing      missing       missing   \n",
       "6 30           30            50        "
      ]
     },
     "metadata": {},
     "output_type": "display_data"
    }
   ],
   "source": [
    "#get structure of data\n",
    "str(ms_work)\n",
    "head(ms_work)"
   ]
  },
  {
   "cell_type": "code",
   "execution_count": null,
   "id": "9ae2587f",
   "metadata": {},
   "outputs": [],
   "source": [
    "The dataset has 31 variables (colomns) and 55 observations (rows)."
   ]
  },
  {
   "cell_type": "markdown",
   "id": "c1501908",
   "metadata": {},
   "source": [
    "Create one graph to quickly visualize your data. <br>\n",
    "It's okay if it is not visualy appealing or contains outliers, because we have not cleaned our data yet! Did you get any errors? If so, what were they? Would the errors have been avoided if you had cleaned the data first?<br>\n",
    "Data cleaning and transforming is very important when storing your data in a warehouse...ready for Assignment #2?"
   ]
  },
  {
   "cell_type": "code",
   "execution_count": 37,
   "id": "aebde75d",
   "metadata": {},
   "outputs": [
    {
     "data": {
      "image/png": "[encoded data removed]",
      "text/plain": [
       "plot without title"
      ]
     },
     "metadata": {},
     "output_type": "display_data"
    },
    {
     "data": {
      "image/png": "[encoded data removed]",
      "text/plain": [
       "plot without title"
      ]
     },
     "metadata": {},
     "output_type": "display_data"
    }
   ],
   "source": [
    "#graphing data\n",
    "ms_work %>%\n",
    "ggplot(aes(x = full_part_time)) +\n",
    "geom_bar() \n",
    "\n",
    "ms_work %>%\n",
    "ggplot(aes(x = EDSS)) +\n",
    "geom_bar() "
   ]
  },
  {
   "cell_type": "code",
   "execution_count": null,
   "id": "e6ab7e05",
   "metadata": {},
   "outputs": [],
   "source": [
    "Whie I had no errors, there is a lot of data to explore in this set. It's difficult to show all the information in one or two charts."
   ]
  }
 ],
 "metadata": {
  "kernelspec": {
   "display_name": "R",
   "language": "R",
   "name": "ir"
  },
  "language_info": {
   "codemirror_mode": "r",
   "file_extension": ".r",
   "mimetype": "text/x-r-source",
   "name": "R",
   "pygments_lexer": "r",
   "version": "3.6.1"
  }
 },
 "nbformat": 4,
 "nbformat_minor": 5
}
